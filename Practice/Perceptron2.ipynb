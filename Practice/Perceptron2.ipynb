{
 "cells": [
  {
   "cell_type": "code",
   "execution_count": 1,
   "metadata": {},
   "outputs": [],
   "source": [
    "import random\n",
    "\n",
    "x = [[1,1],[1,3],[2,1],[3,2],[5,3],[6,3],[6,5],[7,2]]\n",
    "y = [-1,-1,-1,-1,1,1,1,1]\n",
    "w = []"
   ]
  },
  {
   "cell_type": "code",
   "execution_count": 2,
   "metadata": {},
   "outputs": [
    {
     "name": "stdout",
     "output_type": "stream",
     "text": [
      "[-0.30605402550406713, -0.4616572717092544, 0.9447407474964025]\n"
     ]
    }
   ],
   "source": [
    "for i in range(0,3):\n",
    "    w_i = random.uniform(-1,1)\n",
    "    w.append(w_i)\n",
    "print(w)"
   ]
  },
  {
   "cell_type": "code",
   "execution_count": 3,
   "metadata": {},
   "outputs": [],
   "source": [
    "def predict(w,xi):\n",
    "    answer = 0\n",
    "    sum = w[0]\n",
    "    for i in range(1,len(w)):\n",
    "        sum += w[i] * xi[i-1]\n",
    "    if sum > 0:\n",
    "        answer = 1\n",
    "    else:\n",
    "        answer = -1\n",
    "    \n",
    "    return answer"
   ]
  },
  {
   "cell_type": "code",
   "execution_count": 4,
   "metadata": {},
   "outputs": [],
   "source": [
    "def learn(w,x,y):\n",
    "    is_error_there = True\n",
    "    while is_error_there:\n",
    "        is_error_there = False\n",
    "        for i in range(0,len(x)):\n",
    "            answer = predict(w,x[i])\n",
    "            if answer != y[i]:\n",
    "                for j in range(0,len(w)):\n",
    "                    if j == 0:\n",
    "                        w[j] += y[i] * 1\n",
    "                    else:\n",
    "                        w[j] += y[i] * x[i][j-1]\n",
    "                is_error_there = True\n",
    "        \n",
    "    return w"
   ]
  },
  {
   "cell_type": "code",
   "execution_count": 5,
   "metadata": {
    "scrolled": true
   },
   "outputs": [
    {
     "name": "stdout",
     "output_type": "stream",
     "text": [
      "[1, 1],-1,-1\n",
      "[1, 3],-1,-1\n",
      "[2, 1],-1,-1\n",
      "[3, 2],-1,-1\n",
      "[5, 3],1,1\n",
      "[6, 3],1,1\n",
      "[6, 5],1,1\n",
      "[7, 2],1,1\n"
     ]
    }
   ],
   "source": [
    "w = learn(w,x,y)\n",
    "\n",
    "\n",
    "for i in range(0,len(x)):\n",
    "    x_i = x[i]\n",
    "    y_i = y[i]\n",
    "    answer = predict(w,x_i)\n",
    "    print(x_i,end=\",\")\n",
    "    print(y_i,end=\",\")\n",
    "    print(answer)"
   ]
  }
 ],
 "metadata": {
  "kernelspec": {
   "display_name": "Python 3",
   "language": "python",
   "name": "python3"
  },
  "language_info": {
   "codemirror_mode": {
    "name": "ipython",
    "version": 3
   },
   "file_extension": ".py",
   "mimetype": "text/x-python",
   "name": "python",
   "nbconvert_exporter": "python",
   "pygments_lexer": "ipython3",
   "version": "3.6.7"
  }
 },
 "nbformat": 4,
 "nbformat_minor": 2
}
