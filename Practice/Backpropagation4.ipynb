{
 "cells": [
  {
   "cell_type": "code",
   "execution_count": 8,
   "metadata": {},
   "outputs": [],
   "source": [
    "import numpy as np\n",
    "import pandas as pd\n",
    "from pandas import Series,DataFrame\n",
    "import math"
   ]
  },
  {
   "cell_type": "code",
   "execution_count": 9,
   "metadata": {},
   "outputs": [],
   "source": [
    "#Input Data\n",
    "i1 = np.abs(2 * np.random.randn(4))\n",
    "i2 = np.abs(2 * np.random.randn(4))\n",
    "#Output Data\n",
    "target1 = np.abs(np.random.randn(4))\n",
    "target2 = np.abs(np.random.randn(4))\n",
    "\n",
    "#Weights\n",
    "w = np.array([0.15, 0.20, 0.25,0.30, 0.40, 0.45, 0.50, 0.55])\n",
    "b = np.array([0.35, 0.35, 0.60, 0.60])"
   ]
  },
  {
   "cell_type": "code",
   "execution_count": 10,
   "metadata": {},
   "outputs": [
    {
     "name": "stdout",
     "output_type": "stream",
     "text": [
      "i1 : [0.13496815 0.27095559 2.40668322 0.50449299]\n",
      "i2 : [0.582647   0.87974203 1.17489148 2.55446672]\n",
      "target1 : [1.48940335 0.50206404 0.88175984 0.38203975]\n",
      "target2 : [0.33441473 0.52668639 0.36576932 1.41571064]\n",
      "w : [0.15 0.2  0.25 0.3  0.4  0.45 0.5  0.55]\n",
      "b : [0.35 0.35 0.6  0.6 ]\n"
     ]
    }
   ],
   "source": [
    "print('i1 :',i1)\n",
    "print('i2 :',i2)\n",
    "print('target1 :',target1)\n",
    "print('target2 :',target2)\n",
    "print('w :',w)\n",
    "print('b :',b)"
   ]
  },
  {
   "cell_type": "code",
   "execution_count": 11,
   "metadata": {},
   "outputs": [],
   "source": [
    "def backpropagation(i1, i2, target1, target2, w1, w2, w3, w4, w5, w6, w7, w8, b1, b2, b3, b4):\n",
    "    \n",
    "    def sigmoid(a):\n",
    "        s = 1 / (1 + math.e**-a)\n",
    "        return s\n",
    "\n",
    "    def hidden1(i1, w1, i2, w2, b1):\n",
    "        return i1*w1 + i2*w2 + b1\n",
    "    \n",
    "    def totalError(target1, outO1, target2, outO2):\n",
    "        Eo1 = 0.5 * (target1 - outO1)**2\n",
    "        Eo2 = 0.5 * (target2 - outO2)**2\n",
    "        Etotal = Eo1 + Eo2\n",
    "        return Etotal\n",
    "        \n",
    "    outH1 = sigmoid(hidden1(i1, w1, i2, w3, b1))\n",
    "    outH2 = sigmoid(hidden1(i1, w2, i2, w4, b2))\n",
    "    outO1 = sigmoid(hidden1(outH1, w5, outH2, w7, b3))\n",
    "    outO2 = sigmoid(hidden1(outH1, w6, outH2, w8, b4))\n",
    "    Etotal = totalError(target1, outO1, target2, outO2)\n",
    "    \n",
    "    return outH1, outH2, outO1, outO2, Etotal"
   ]
  },
  {
   "cell_type": "code",
   "execution_count": 12,
   "metadata": {},
   "outputs": [],
   "source": [
    "#args {i, target2, outO2, w1, w2}\n",
    "def updateWeightsV1(target, outH, outO, w, *args):\n",
    "\n",
    "    def Etotal_op(target, outO):\n",
    "        Etotal_op = (target - outO) * -1\n",
    "        return Etotal_op\n",
    "\n",
    "    def op_net(outO):\n",
    "        op_net1 = outO * (1 - outO)\n",
    "        return op_net1\n",
    "\n",
    "    def net_w(outH):\n",
    "        net_w1 = outH\n",
    "        return net_w1\n",
    "    \n",
    "    #新しいウェイト\n",
    "    def learingRatio(w,new_w):\n",
    "        a = 0.5\n",
    "        w = w - new_w * a\n",
    "        return w\n",
    "    \n",
    "    bool = args[0]\n",
    "    if(bool):\n",
    "        new_w = net_w(outH) * op_net(outO) * Etotal_op(target, outO)\n",
    "    else:\n",
    "        i, target2, outO2, w1, w2 = args[1], args[2], args[3], args[4], args[5]\n",
    "        \n",
    "        new_w = net_w(i) * op_net(outH) * (net_w(w1) * op_net(outO) * Etotal_op(target, outO) + net_w(w2) * op_net(outO2) * Etotal_op(target2, outO2))\n",
    "        \n",
    "    w = learingRatio(w,new_w)\n",
    "    return w"
   ]
  },
  {
   "cell_type": "code",
   "execution_count": 13,
   "metadata": {},
   "outputs": [
    {
     "name": "stdout",
     "output_type": "stream",
     "text": [
      "[0.15 0.2  0.25 0.3  0.4  0.45 0.5  0.55]\n",
      "0.300566849104122\n",
      "0.08670479381596838\n",
      "0.08653517485370361\n",
      "0.08648838124307408\n",
      "0.08646658928906929\n",
      "0.08645401324153522\n",
      "0.08644583670757681\n",
      "0.08644009877898097\n",
      "0.08643585208481565\n",
      "0.08643258324654227\n",
      "[ -1.83450486  -2.01493221   4.12302204  11.90659964   2.47056581\n",
      "  10.45261792 -13.71796376   0.6456309 ]\n"
     ]
    }
   ],
   "source": [
    "print(w)\n",
    "for loop in range(1000):\n",
    "    for num in range(np.size(i1)):\n",
    "        outH1, outH2, outO1, outO2, Etotal = backpropagation(i1[num], i2[num], target1[num], target2[num],w[0], w[1], w[2], w[3], w[4], w[5], w[6], w[7], b[0], b[1], b[2], b[3])\n",
    "\n",
    "        new_w5 = updateWeightsV1(target1[num], outH1, outO1, w[4], True)\n",
    "        new_w6 = updateWeightsV1(target2[num], outH1, outO2, w[5], True)\n",
    "        new_w7 = updateWeightsV1(target1[num], outH2, outO1, w[6], True)\n",
    "        new_w8 = updateWeightsV1(target2[num], outH2, outO2, w[7], True)\n",
    "\n",
    "        new_w1 = updateWeightsV1(target1[num], outH1, outO1, w[0], False, i1[num], target2[num], outO2, w[4], w[5])\n",
    "        new_w2 = updateWeightsV1(target1[num], outH2, outO1, w[1], False, i1[num], target2[num], outO2, w[6], w[7])\n",
    "        new_w3 = updateWeightsV1(target1[num], outH1, outO1, w[2], False, i2[num], target2[num], outO2, w[4], w[5])\n",
    "        new_w4 = updateWeightsV1(target1[num], outH2, outO1, w[3], False, i2[num], target2[num], outO2, w[6], w[7])\n",
    "\n",
    "        new_b3 = updateWeightsV1(target1[num], 1, outO1, b[2], True)\n",
    "        new_b4 = updateWeightsV1(target2[num], 1, outO2, b[3], True)\n",
    "        new_b1 = updateWeightsV1(target1[num], outH1, outO1, b[0], False, 1, target2[num], outO2, w[4], w[5])\n",
    "        new_b2 = updateWeightsV1(target1[num], outH2, outO1, b[1], False, 1, target2[num], outO2, w[6], w[7])\n",
    "        \n",
    "        w = np.array([new_w1, new_w2, new_w3, new_w4, new_w5, new_w6, new_w7, new_w8])\n",
    "        b = np.array([new_b1, new_b2, new_b3, new_b4])\n",
    "    if(loop % 10000 == 0):    \n",
    "        print(Etotal)\n",
    "print(w)"
   ]
  },
  {
   "cell_type": "code",
   "execution_count": null,
   "metadata": {},
   "outputs": [],
   "source": []
  }
 ],
 "metadata": {
  "kernelspec": {
   "display_name": "Python 3",
   "language": "python",
   "name": "python3"
  },
  "language_info": {
   "codemirror_mode": {
    "name": "ipython",
    "version": 3
   },
   "file_extension": ".py",
   "mimetype": "text/x-python",
   "name": "python",
   "nbconvert_exporter": "python",
   "pygments_lexer": "ipython3",
   "version": "3.6.7"
  }
 },
 "nbformat": 4,
 "nbformat_minor": 2
}
